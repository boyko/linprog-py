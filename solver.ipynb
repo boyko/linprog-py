{
 "cells": [
  {
   "cell_type": "code",
   "execution_count": 1,
   "metadata": {
    "scrolled": false
   },
   "outputs": [
    {
     "data": {
      "application/vnd.jupyter.widget-view+json": {
       "model_id": "1047caa85ec0472584bf02304708bd01",
       "version_major": 2,
       "version_minor": 0
      },
      "text/plain": [
       "Textarea(value='\\nmax 2x1 + 1x2\\n-1x1 + 2x2 <= 2000\\n2x1 - x2 <= 600\\n3x1 + 8x2  <= 2400\\n', description='Stri…"
      ]
     },
     "metadata": {},
     "output_type": "display_data"
    },
    {
     "data": {
      "application/vnd.jupyter.widget-view+json": {
       "model_id": "042a9dc584934b7aa004f8006535a057",
       "version_major": 2,
       "version_minor": 0
      },
      "text/plain": [
       "Button(description='Run model', icon='check', style=ButtonStyle(), tooltip='Run')"
      ]
     },
     "metadata": {},
     "output_type": "display_data"
    },
    {
     "name": "stdout",
     "output_type": "stream",
     "text": [
      "Running model\n",
      "\n",
      "max 2x1 + 1x2\n",
      "-1x1 + 2x2 <= 2000\n",
      "2x1 - x2 <= 600\n",
      "3x1 + 8x2  <= 2400\n",
      "\n",
      "Using 3c439c7cede49fcc3537ad4125673364\n",
      "Welcome to the CBC MILP Solver \n",
      "Version: 2.10.3 \n",
      "Build Date: Dec 15 2019 \n",
      "\n",
      "command line - /home/amarov/proj/statistics/linprog-2022-2023/venv/lib/python3.8/site-packages/pulp/apis/../solverdir/cbc/linux/64/cbc /tmp/870b977e5102408a851460395d48857d-pulp.mps max timeMode elapsed branch printingOptions all solution /tmp/870b977e5102408a851460395d48857d-pulp.sol (default strategy 1)\n",
      "At line 2 NAME          MODEL\n",
      "At line 3 ROWS\n",
      "At line 8 COLUMNS\n",
      "At line 17 RHS\n",
      "At line 21 BOUNDS\n",
      "At line 22 ENDATA\n",
      "Problem MODEL has 3 rows, 2 columns and 6 elements\n",
      "Coin0008I MODEL read with 0 errors\n",
      "Option for timeMode changed from cpu to elapsed\n",
      "Presolve 0 (-3) rows, 0 (-2) columns and 0 (-6) elements\n",
      "Empty problem - 0 rows, 0 columns and 0 elements\n",
      "Optimal - objective value 915.78947\n",
      "After Postsolve, objective 915.78947, infeasibilities - dual 0 (0), primal 0 (0)\n",
      "Optimal objective 915.7894737 - 0 iterations time 0.002, Presolve 0.00\n",
      "Option for printingOptions changed from normal to all\n",
      "Total time (CPU seconds):       0.00   (Wallclock seconds):       0.00\n",
      "\n",
      "Model status Optimal\n"
     ]
    }
   ],
   "source": [
    "from ui import render_ui\n",
    "\n",
    "render_ui()\n"
   ]
  },
  {
   "cell_type": "code",
   "execution_count": null,
   "metadata": {},
   "outputs": [],
   "source": []
  }
 ],
 "metadata": {
  "kernelspec": {
   "display_name": "Python 3 (ipykernel)",
   "language": "python",
   "name": "python3"
  },
  "language_info": {
   "codemirror_mode": {
    "name": "ipython",
    "version": 3
   },
   "file_extension": ".py",
   "mimetype": "text/x-python",
   "name": "python",
   "nbconvert_exporter": "python",
   "pygments_lexer": "ipython3",
   "version": "3.8.10"
  }
 },
 "nbformat": 4,
 "nbformat_minor": 1
}
